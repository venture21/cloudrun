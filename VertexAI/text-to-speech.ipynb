{
  "cells": [
    {
      "cell_type": "code",
      "id": "psMr7cXfLtfCLjrs0ISQeM94",
      "metadata": {
        "tags": [],
        "id": "psMr7cXfLtfCLjrs0ISQeM94",
        "colab": {
          "base_uri": "https://localhost:8080/"
        },
        "executionInfo": {
          "status": "ok",
          "timestamp": 1752740917724,
          "user_tz": -540,
          "elapsed": 8712,
          "user": {
            "displayName": "",
            "userId": ""
          }
        },
        "outputId": "59fbe0cf-dc69-4561-9dee-444e021fd2d8"
      },
      "source": [
        "import google.auth\n",
        "import google.auth.transport.requests\n",
        "import json\n",
        "import requests\n",
        "import base64 # 오디오 파일 저장에 필요\n",
        "\n",
        "def synthesize_text_to_speech_from_input():\n",
        "    \"\"\"\n",
        "    Google Cloud Text-to-Speech API를 사용하여 사용자 입력 텍스트를 음성으로 합성합니다.\n",
        "    \"\"\"\n",
        "    # 1. 사용자로부터 텍스트 입력 받기\n",
        "    user_text = input(\"음성으로 변환할 텍스트를 입력하세요: \")\n",
        "    if not user_text:\n",
        "        print(\"텍스트가 입력되지 않았습니다. 프로그램을 종료합니다.\")\n",
        "        return\n",
        "\n",
        "    # 2. 인증 정보 가져오기\n",
        "    credentials, project_id = google.auth.default()\n",
        "\n",
        "    # 인증 요청 객체 생성\n",
        "    request_auth = google.auth.transport.requests.Request()\n",
        "    credentials.refresh(request_auth) # 인증 정보 갱신 (필요한 경우)\n",
        "\n",
        "    access_token = credentials.token\n",
        "\n",
        "    # 3. API 엔드포인트 및 헤더 설정\n",
        "    url = \"https://texttospeech.googleapis.com/v1/text:synthesize\"\n",
        "    headers = {\n",
        "        \"Content-Type\": \"application/json\",\n",
        "        \"X-Goog-User-Project\": project_id,\n",
        "        \"Authorization\": f\"Bearer {access_token}\"\n",
        "    }\n",
        "\n",
        "    # 4. 요청 본문(Payload) 설정\n",
        "    payload = {\n",
        "        \"input\": {\n",
        "            \"text\": user_text  # 사용자로부터 입력받은 텍스트 적용\n",
        "        },\n",
        "        \"voice\": {\n",
        "            \"languageCode\": \"ko-KR\",\n",
        "            \"name\": \"ko-KR-Chirp3-HD-Achernar\",\n",
        "            \"voiceClone\": {}\n",
        "        },\n",
        "        \"audioConfig\": {\n",
        "            \"audioEncoding\": \"LINEAR16\"\n",
        "        }\n",
        "    }\n",
        "\n",
        "    # 5. API 호출\n",
        "    response = None # 초기화\n",
        "    try:\n",
        "        print(f\"'{user_text}' 텍스트를 음성으로 합성 중...\")\n",
        "        response = requests.post(url, headers=headers, data=json.dumps(payload))\n",
        "        response.raise_for_status()  # HTTP 오류 발생 시 예외 발생\n",
        "\n",
        "        # 6. 응답 처리\n",
        "        response_data = response.json()\n",
        "        audio_content_base64 = response_data['audioContent']\n",
        "\n",
        "        audio_data = base64.b64decode(audio_content_base64)\n",
        "\n",
        "        output_filename = \"output.wav\"\n",
        "        with open(output_filename, \"wb\") as out_file:\n",
        "            out_file.write(audio_data)\n",
        "            print(f\"오디오 콘텐츠가 '{output_filename}' 파일로 저장되었습니다.\")\n",
        "\n",
        "    except requests.exceptions.RequestException as e:\n",
        "        print(f\"API 호출 중 오류 발생: {e}\")\n",
        "        if response is not None:\n",
        "            print(f\"응답 상태 코드: {response.status_code}\")\n",
        "            print(f\"응답 본문: {response.text}\")\n",
        "    except Exception as e:\n",
        "        print(f\"예기치 않은 오류 발생: {e}\")\n",
        "\n",
        "if __name__ == \"__main__\":\n",
        "    synthesize_text_to_speech_from_input()\n"
      ],
      "execution_count": 1,
      "outputs": [
        {
          "output_type": "stream",
          "name": "stdout",
          "text": [
            "음성으로 변환할 텍스트를 입력하세요: 안녕하세요.\n",
            "'안녕하세요.' 텍스트를 음성으로 합성 중...\n",
            "오디오 콘텐츠가 'output.wav' 파일로 저장되었습니다.\n"
          ]
        }
      ]
    },
    {
      "cell_type": "code",
      "source": [
        "import google.auth\n",
        "import google.auth.transport.requests\n",
        "import requests\n",
        "\n",
        "def list_supported_voices_ko():\n",
        "    \"\"\"\n",
        "    Text-to-Speech API에서 지원하는 한국어 음성 목록만 가져옵니다.\n",
        "    \"\"\"\n",
        "    credentials, project_id = google.auth.default()\n",
        "    request_auth = google.auth.transport.requests.Request()\n",
        "    credentials.refresh(request_auth)\n",
        "    access_token = credentials.token\n",
        "\n",
        "    url = \"https://texttospeech.googleapis.com/v1/voices?languageCode=ko-KR\"  # 한국어 코드 지정\n",
        "    headers = {\n",
        "        \"X-Goog-User-Project\": project_id,\n",
        "        \"Authorization\": f\"Bearer {access_token}\"\n",
        "    }\n",
        "\n",
        "    try:\n",
        "        response = requests.get(url, headers=headers)\n",
        "        response.raise_for_status()\n",
        "        voices = response.json()['voices']\n",
        "        return voices\n",
        "    except requests.exceptions.RequestException as e:\n",
        "        print(f\"API 호출 중 오류 발생: {e}\")\n",
        "        return None\n",
        "\n",
        "voices_ko = list_supported_voices_ko()\n",
        "if voices_ko:\n",
        "    for voice in voices_ko:\n",
        "        print(f\"언어 코드: {voice['languageCodes']}, 음성 이름: {voice['name']}\")\n",
        "\n"
      ],
      "metadata": {
        "colab": {
          "base_uri": "https://localhost:8080/"
        },
        "id": "-kDO8HUWf8x3",
        "executionInfo": {
          "status": "ok",
          "timestamp": 1752741142666,
          "user_tz": -540,
          "elapsed": 2,
          "user": {
            "displayName": "",
            "userId": ""
          }
        },
        "outputId": "bedbb2bd-a42d-4e78-b283-7f2149239a89"
      },
      "id": "-kDO8HUWf8x3",
      "execution_count": 3,
      "outputs": [
        {
          "output_type": "stream",
          "name": "stdout",
          "text": [
            "언어 코드: ['ko-KR'], 음성 이름: ko-KR-Chirp3-HD-Achernar\n",
            "언어 코드: ['ko-KR'], 음성 이름: ko-KR-Chirp3-HD-Achird\n",
            "언어 코드: ['ko-KR'], 음성 이름: ko-KR-Chirp3-HD-Algenib\n",
            "언어 코드: ['ko-KR'], 음성 이름: ko-KR-Chirp3-HD-Algieba\n",
            "언어 코드: ['ko-KR'], 음성 이름: ko-KR-Chirp3-HD-Alnilam\n",
            "언어 코드: ['ko-KR'], 음성 이름: ko-KR-Chirp3-HD-Aoede\n",
            "언어 코드: ['ko-KR'], 음성 이름: ko-KR-Chirp3-HD-Autonoe\n",
            "언어 코드: ['ko-KR'], 음성 이름: ko-KR-Chirp3-HD-Callirrhoe\n",
            "언어 코드: ['ko-KR'], 음성 이름: ko-KR-Chirp3-HD-Charon\n",
            "언어 코드: ['ko-KR'], 음성 이름: ko-KR-Chirp3-HD-Despina\n",
            "언어 코드: ['ko-KR'], 음성 이름: ko-KR-Chirp3-HD-Enceladus\n",
            "언어 코드: ['ko-KR'], 음성 이름: ko-KR-Chirp3-HD-Erinome\n",
            "언어 코드: ['ko-KR'], 음성 이름: ko-KR-Chirp3-HD-Fenrir\n",
            "언어 코드: ['ko-KR'], 음성 이름: ko-KR-Chirp3-HD-Gacrux\n",
            "언어 코드: ['ko-KR'], 음성 이름: ko-KR-Chirp3-HD-Iapetus\n",
            "언어 코드: ['ko-KR'], 음성 이름: ko-KR-Chirp3-HD-Kore\n",
            "언어 코드: ['ko-KR'], 음성 이름: ko-KR-Chirp3-HD-Laomedeia\n",
            "언어 코드: ['ko-KR'], 음성 이름: ko-KR-Chirp3-HD-Leda\n",
            "언어 코드: ['ko-KR'], 음성 이름: ko-KR-Chirp3-HD-Orus\n",
            "언어 코드: ['ko-KR'], 음성 이름: ko-KR-Chirp3-HD-Puck\n",
            "언어 코드: ['ko-KR'], 음성 이름: ko-KR-Chirp3-HD-Pulcherrima\n",
            "언어 코드: ['ko-KR'], 음성 이름: ko-KR-Chirp3-HD-Rasalgethi\n",
            "언어 코드: ['ko-KR'], 음성 이름: ko-KR-Chirp3-HD-Sadachbia\n",
            "언어 코드: ['ko-KR'], 음성 이름: ko-KR-Chirp3-HD-Sadaltager\n",
            "언어 코드: ['ko-KR'], 음성 이름: ko-KR-Chirp3-HD-Schedar\n",
            "언어 코드: ['ko-KR'], 음성 이름: ko-KR-Chirp3-HD-Sulafat\n",
            "언어 코드: ['ko-KR'], 음성 이름: ko-KR-Chirp3-HD-Umbriel\n",
            "언어 코드: ['ko-KR'], 음성 이름: ko-KR-Chirp3-HD-Vindemiatrix\n",
            "언어 코드: ['ko-KR'], 음성 이름: ko-KR-Chirp3-HD-Zephyr\n",
            "언어 코드: ['ko-KR'], 음성 이름: ko-KR-Chirp3-HD-Zubenelgenubi\n",
            "언어 코드: ['ko-KR'], 음성 이름: ko-KR-Neural2-A\n",
            "언어 코드: ['ko-KR'], 음성 이름: ko-KR-Neural2-B\n",
            "언어 코드: ['ko-KR'], 음성 이름: ko-KR-Neural2-C\n",
            "언어 코드: ['ko-KR'], 음성 이름: ko-KR-Standard-A\n",
            "언어 코드: ['ko-KR'], 음성 이름: ko-KR-Standard-B\n",
            "언어 코드: ['ko-KR'], 음성 이름: ko-KR-Standard-C\n",
            "언어 코드: ['ko-KR'], 음성 이름: ko-KR-Standard-D\n",
            "언어 코드: ['ko-KR'], 음성 이름: ko-KR-Wavenet-A\n",
            "언어 코드: ['ko-KR'], 음성 이름: ko-KR-Wavenet-B\n",
            "언어 코드: ['ko-KR'], 음성 이름: ko-KR-Wavenet-C\n",
            "언어 코드: ['ko-KR'], 음성 이름: ko-KR-Wavenet-D\n"
          ]
        }
      ]
    },
    {
      "cell_type": "code",
      "source": [
        "import ipywidgets as widgets\n",
        "from IPython.display import display\n",
        "\n",
        "def create_voice_selection_widgets_ko(voices):\n",
        "    \"\"\"\n",
        "    사용 가능한 한국어 음성 목록을 기반으로 음성 선택 드롭다운 목록을 생성합니다.\n",
        "    \"\"\"\n",
        "    # 한국어 음성만 필터링\n",
        "    korean_voices = [voice for voice in voices if voice['languageCodes'][0] == 'ko-KR']\n",
        "\n",
        "    voice_name_dropdown = widgets.Dropdown(\n",
        "        options=[voice['name'] for voice in korean_voices],\n",
        "        description='음성:',\n",
        "        disabled=False,\n",
        "    )\n",
        "\n",
        "    display(voice_name_dropdown)\n",
        "    return voice_name_dropdown\n",
        "\n",
        "# voices 변수가 이미 정의되어 있다고 가정합니다.\n",
        "voice_name_dropdown_ko = create_voice_selection_widgets_ko(voices_ko)\n"
      ],
      "metadata": {
        "colab": {
          "base_uri": "https://localhost:8080/",
          "height": 49,
          "referenced_widgets": [
            "c7492cd0ffd74a5196c71e6093a8ff26",
            "9bc27c4661a746c79b67c2f43aab34b9",
            "dad7109dc0aa41eaaa29a518ca95929a"
          ]
        },
        "id": "aJ3PcNwAgkaQ",
        "executionInfo": {
          "status": "ok",
          "timestamp": 1752741198105,
          "user_tz": -540,
          "elapsed": 3,
          "user": {
            "displayName": "",
            "userId": ""
          }
        },
        "outputId": "e4f21137-9d0d-4ff6-dd71-829294fb6ebd"
      },
      "id": "aJ3PcNwAgkaQ",
      "execution_count": 4,
      "outputs": [
        {
          "output_type": "display_data",
          "data": {
            "text/plain": [
              "Dropdown(description='음성:', options=('ko-KR-Chirp3-HD-Achernar', 'ko-KR-Chirp3-HD-Achird', 'ko-KR-Chirp3-HD-Al…"
            ],
            "application/vnd.jupyter.widget-view+json": {
              "version_major": 2,
              "version_minor": 0,
              "model_id": "c7492cd0ffd74a5196c71e6093a8ff26"
            }
          },
          "metadata": {}
        }
      ]
    },
    {
      "cell_type": "code",
      "source": [
        "selected_voice_name = voice_name_dropdown_ko.value\n",
        "selected_voice_name"
      ],
      "metadata": {
        "colab": {
          "base_uri": "https://localhost:8080/",
          "height": 36
        },
        "id": "xnlqyjJGiZAt",
        "executionInfo": {
          "status": "ok",
          "timestamp": 1752741632060,
          "user_tz": -540,
          "elapsed": 3,
          "user": {
            "displayName": "",
            "userId": ""
          }
        },
        "outputId": "cc48d2ac-358e-41f4-93dc-a628bbb2a598"
      },
      "id": "xnlqyjJGiZAt",
      "execution_count": 12,
      "outputs": [
        {
          "output_type": "execute_result",
          "data": {
            "text/plain": [
              "'ko-KR-Chirp3-HD-Callirrhoe'"
            ],
            "application/vnd.google.colaboratory.intrinsic+json": {
              "type": "string"
            }
          },
          "metadata": {},
          "execution_count": 12
        }
      ]
    },
    {
      "cell_type": "code",
      "source": [
        "import google.auth\n",
        "import google.auth.transport.requests\n",
        "import json\n",
        "import requests\n",
        "import base64\n",
        "import ipywidgets as widgets\n",
        "from IPython.display import display\n",
        "\n",
        "def synthesize_text_to_speech_from_input(selected_voice_name):\n",
        "    \"\"\"\n",
        "    Google Cloud Text-to-Speech API를 사용하여 사용자 입력 텍스트를 음성으로 합성합니다.\n",
        "    선택된 음성 이름을 인자로 받습니다.\n",
        "    \"\"\"\n",
        "    # 1. 사용자로부터 텍스트 입력 받기\n",
        "    user_text = input(\"음성으로 변환할 텍스트를 입력하세요: \")\n",
        "    if not user_text:\n",
        "        print(\"텍스트가 입력되지 않았습니다. 프로그램을 종료합니다.\")\n",
        "        return\n",
        "\n",
        "    # 2. 인증 정보 가져오기\n",
        "    credentials, project_id = google.auth.default()\n",
        "\n",
        "    # 인증 요청 객체 생성\n",
        "    request_auth = google.auth.transport.requests.Request()\n",
        "    credentials.refresh(request_auth)\n",
        "\n",
        "    access_token = credentials.token\n",
        "\n",
        "    # 3. API 엔드포인트 및 헤더 설정\n",
        "    url = \"https://texttospeech.googleapis.com/v1/text:synthesize\"\n",
        "    headers = {\n",
        "        \"Content-Type\": \"application/json\",\n",
        "        \"X-Goog-User-Project\": project_id,\n",
        "        \"Authorization\": f\"Bearer {access_token}\"\n",
        "    }\n",
        "\n",
        "    # 4. 요청 본문(Payload) 설정\n",
        "    payload = {\n",
        "        \"input\": {\n",
        "            \"text\": user_text\n",
        "        },\n",
        "        \"voice\": {\n",
        "            \"languageCode\": \"ko-KR\",\n",
        "            \"name\": selected_voice_name,  # 드롭다운에서 선택된 음성 이름 사용\n",
        "            \"voiceClone\": {}\n",
        "        },\n",
        "        \"audioConfig\": {\n",
        "            \"audioEncoding\": \"LINEAR16\"\n",
        "        }\n",
        "    }\n",
        "\n",
        "    # 5. API 호출\n",
        "    response = None\n",
        "    try:\n",
        "        print(f\"'{user_text}' 텍스트를 음성으로 합성 중...\")\n",
        "        response = requests.post(url, headers=headers, data=json.dumps(payload))\n",
        "        response.raise_for_status()\n",
        "\n",
        "        # 6. 응답 처리\n",
        "        response_data = response.json()\n",
        "        audio_content_base64 = response_data['audioContent']\n",
        "\n",
        "        audio_data = base64.b64decode(audio_content_base64)\n",
        "\n",
        "        output_filename = \"output.wav\"\n",
        "        with open(output_filename, \"wb\") as out_file:\n",
        "            out_file.write(audio_data)\n",
        "            print(f\"오디오 콘텐츠가 '{output_filename}' 파일로 저장되었습니다.\")\n",
        "\n",
        "    except requests.exceptions.RequestException as e:\n",
        "        print(f\"API 호출 중 오류 발생: {e}\")\n",
        "        if response is not None:\n",
        "            print(f\"응답 상태 코드: {response.status_code}\")\n",
        "            print(f\"응답 본문: {response.text}\")\n",
        "    except Exception as e:\n",
        "        print(f\"예기치 않은 오류 발생: {e}\")\n",
        "\n",
        "# 드롭다운 위젯 생성 함수 (이전 코드와 동일)\n",
        "def create_voice_selection_widgets_ko(voices):\n",
        "    \"\"\"\n",
        "    사용 가능한 한국어 음성 목록을 기반으로 음성 선택 드롭다운 목록을 생성합니다.\n",
        "    \"\"\"\n",
        "    # 한국어 음성만 필터링\n",
        "    korean_voices = [voice for voice in voices if voice['languageCodes'][0] == 'ko-KR']\n",
        "\n",
        "    voice_name_dropdown = widgets.Dropdown(\n",
        "        options=[voice['name'] for voice in korean_voices],\n",
        "        description='음성:',\n",
        "        disabled=False,\n",
        "    )\n",
        "\n",
        "    display(voice_name_dropdown)\n",
        "    return voice_name_dropdown\n",
        "\n",
        "# 사용 가능한 음성 목록 가져오기 (이전 코드와 동일)\n",
        "def list_supported_voices_ko():\n",
        "    \"\"\"\n",
        "    Text-to-Speech API에서 지원하는 한국어 음성 목록만 가져옵니다.\n",
        "    \"\"\"\n",
        "    credentials, project_id = google.auth.default()\n",
        "    request_auth = google.auth.transport.requests.Request()\n",
        "    credentials.refresh(request_auth)\n",
        "    access_token = credentials.token\n",
        "\n",
        "synthesize_text_to_speech_from_input(selected_voice_name)"
      ],
      "metadata": {
        "colab": {
          "base_uri": "https://localhost:8080/"
        },
        "id": "9yXAt_fNhDPo",
        "executionInfo": {
          "status": "ok",
          "timestamp": 1752741682169,
          "user_tz": -540,
          "elapsed": 27528,
          "user": {
            "displayName": "",
            "userId": ""
          }
        },
        "outputId": "fc9927bb-9ff9-41b7-c98e-2b6b636d3d1d"
      },
      "id": "9yXAt_fNhDPo",
      "execution_count": 13,
      "outputs": [
        {
          "output_type": "stream",
          "name": "stdout",
          "text": [
            "음성으로 변환할 텍스트를 입력하세요: 안전하게 귀가하세요.\n",
            "'안전하게 귀가하세요.' 텍스트를 음성으로 합성 중...\n",
            "오디오 콘텐츠가 'output.wav' 파일로 저장되었습니다.\n"
          ]
        }
      ]
    },
    {
      "cell_type": "code",
      "source": [],
      "metadata": {
        "id": "dJBygpL8hWKd"
      },
      "id": "dJBygpL8hWKd",
      "execution_count": null,
      "outputs": []
    }
  ],
  "metadata": {
    "kernelspec": {
      "display_name": "Python 3",
      "language": "python",
      "name": "python3"
    },
    "language_info": {
      "codemirror_mode": {
        "name": "ipython",
        "version": 3
      },
      "file_extension": ".py",
      "mimetype": "text/x-python",
      "name": "python",
      "nbconvert_exporter": "python",
      "pygments_lexer": "ipython3",
      "version": "3.10.10"
    },
    "colab": {
      "provenance": [],
      "name": "phj (2025. 7. 17. 오후 5:27:53)"
    },
    "widgets": {
      "application/vnd.jupyter.widget-state+json": {
        "c7492cd0ffd74a5196c71e6093a8ff26": {
          "model_module": "@jupyter-widgets/controls",
          "model_name": "DropdownModel",
          "model_module_version": "1.5.0",
          "state": {
            "_dom_classes": [],
            "_model_module": "@jupyter-widgets/controls",
            "_model_module_version": "1.5.0",
            "_model_name": "DropdownModel",
            "_options_labels": [
              "ko-KR-Chirp3-HD-Achernar",
              "ko-KR-Chirp3-HD-Achird",
              "ko-KR-Chirp3-HD-Algenib",
              "ko-KR-Chirp3-HD-Algieba",
              "ko-KR-Chirp3-HD-Alnilam",
              "ko-KR-Chirp3-HD-Aoede",
              "ko-KR-Chirp3-HD-Autonoe",
              "ko-KR-Chirp3-HD-Callirrhoe",
              "ko-KR-Chirp3-HD-Charon",
              "ko-KR-Chirp3-HD-Despina",
              "ko-KR-Chirp3-HD-Enceladus",
              "ko-KR-Chirp3-HD-Erinome",
              "ko-KR-Chirp3-HD-Fenrir",
              "ko-KR-Chirp3-HD-Gacrux",
              "ko-KR-Chirp3-HD-Iapetus",
              "ko-KR-Chirp3-HD-Kore",
              "ko-KR-Chirp3-HD-Laomedeia",
              "ko-KR-Chirp3-HD-Leda",
              "ko-KR-Chirp3-HD-Orus",
              "ko-KR-Chirp3-HD-Puck",
              "ko-KR-Chirp3-HD-Pulcherrima",
              "ko-KR-Chirp3-HD-Rasalgethi",
              "ko-KR-Chirp3-HD-Sadachbia",
              "ko-KR-Chirp3-HD-Sadaltager",
              "ko-KR-Chirp3-HD-Schedar",
              "ko-KR-Chirp3-HD-Sulafat",
              "ko-KR-Chirp3-HD-Umbriel",
              "ko-KR-Chirp3-HD-Vindemiatrix",
              "ko-KR-Chirp3-HD-Zephyr",
              "ko-KR-Chirp3-HD-Zubenelgenubi",
              "ko-KR-Neural2-A",
              "ko-KR-Neural2-B",
              "ko-KR-Neural2-C",
              "ko-KR-Standard-A",
              "ko-KR-Standard-B",
              "ko-KR-Standard-C",
              "ko-KR-Standard-D",
              "ko-KR-Wavenet-A",
              "ko-KR-Wavenet-B",
              "ko-KR-Wavenet-C",
              "ko-KR-Wavenet-D"
            ],
            "_view_count": null,
            "_view_module": "@jupyter-widgets/controls",
            "_view_module_version": "1.5.0",
            "_view_name": "DropdownView",
            "description": "음성:",
            "description_tooltip": null,
            "disabled": false,
            "index": 7,
            "layout": "IPY_MODEL_9bc27c4661a746c79b67c2f43aab34b9",
            "style": "IPY_MODEL_dad7109dc0aa41eaaa29a518ca95929a"
          }
        },
        "9bc27c4661a746c79b67c2f43aab34b9": {
          "model_module": "@jupyter-widgets/base",
          "model_name": "LayoutModel",
          "model_module_version": "1.2.0",
          "state": {
            "_model_module": "@jupyter-widgets/base",
            "_model_module_version": "1.2.0",
            "_model_name": "LayoutModel",
            "_view_count": null,
            "_view_module": "@jupyter-widgets/base",
            "_view_module_version": "1.2.0",
            "_view_name": "LayoutView",
            "align_content": null,
            "align_items": null,
            "align_self": null,
            "border": null,
            "bottom": null,
            "display": null,
            "flex": null,
            "flex_flow": null,
            "grid_area": null,
            "grid_auto_columns": null,
            "grid_auto_flow": null,
            "grid_auto_rows": null,
            "grid_column": null,
            "grid_gap": null,
            "grid_row": null,
            "grid_template_areas": null,
            "grid_template_columns": null,
            "grid_template_rows": null,
            "height": null,
            "justify_content": null,
            "justify_items": null,
            "left": null,
            "margin": null,
            "max_height": null,
            "max_width": null,
            "min_height": null,
            "min_width": null,
            "object_fit": null,
            "object_position": null,
            "order": null,
            "overflow": null,
            "overflow_x": null,
            "overflow_y": null,
            "padding": null,
            "right": null,
            "top": null,
            "visibility": null,
            "width": null
          }
        },
        "dad7109dc0aa41eaaa29a518ca95929a": {
          "model_module": "@jupyter-widgets/controls",
          "model_name": "DescriptionStyleModel",
          "model_module_version": "1.5.0",
          "state": {
            "_model_module": "@jupyter-widgets/controls",
            "_model_module_version": "1.5.0",
            "_model_name": "DescriptionStyleModel",
            "_view_count": null,
            "_view_module": "@jupyter-widgets/base",
            "_view_module_version": "1.2.0",
            "_view_name": "StyleView",
            "description_width": ""
          }
        }
      }
    }
  },
  "nbformat": 4,
  "nbformat_minor": 5
}