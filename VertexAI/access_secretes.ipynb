{
  "cells": [
    {
      "cell_type": "code",
      "source": [
        "!pip install google-cloud-secret-manager"
      ],
      "metadata": {
        "id": "JB7ONAtvnusM",
        "executionInfo": {
          "status": "ok",
          "timestamp": 1752811078558,
          "user_tz": -540,
          "elapsed": 2,
          "user": {
            "displayName": "",
            "userId": ""
          }
        }
      },
      "id": "JB7ONAtvnusM",
      "execution_count": 5,
      "outputs": []
    },
    {
      "cell_type": "code",
      "id": "Fz3g8r1WLYH9mCZdG89HK2UY",
      "metadata": {
        "tags": [],
        "id": "Fz3g8r1WLYH9mCZdG89HK2UY",
        "executionInfo": {
          "status": "ok",
          "timestamp": 1752811111697,
          "user_tz": -540,
          "elapsed": 2,
          "user": {
            "displayName": "",
            "userId": ""
          }
        }
      },
      "source": [
        "from google.cloud import secretmanager\n",
        "import os\n",
        "\n",
        "def access_secret(project_id, secret_name):\n",
        "    \"\"\"\n",
        "    Google Cloud Secret Manager에서 보안 비밀에 접근합니다.\n",
        "\n",
        "    Args:\n",
        "        project_id (str): Google Cloud 프로젝트 ID.\n",
        "        secret_name (str): Secret Manager에 저장된 보안 비밀의 이름.\n",
        "\n",
        "    Returns:\n",
        "        str: 디코딩된 보안 비밀 값.\n",
        "    \"\"\"\n",
        "\n",
        "    # 보안 비밀의 전체 리소스 경로 구성\n",
        "    secret_resource_name = f\"projects/{project_id}/secrets/{secret_name}/versions/latest\"\n",
        "\n",
        "    # Secret Manager 클라이언트 생성\n",
        "    client = secretmanager.SecretManagerServiceClient()\n",
        "\n",
        "    # 보안 비밀 버전 접근\n",
        "    response = client.access_secret_version(name=secret_resource_name)\n",
        "\n",
        "    # 보안 비밀 값 디코딩 및 반환\n",
        "    secret_value = response.payload.data.decode(\"UTF-8\")\n",
        "    return secret_value\n",
        "\n",
        "# 사용 예시:\n",
        "PROJECT_ID = \"sesac-dev-400904\"\n",
        "SECRET_NAME = \"GOOGLE_API_KEY\"\n",
        "\n",
        "secret = access_secret(PROJECT_ID, SECRET_NAME)\n",
        "#secret"
      ],
      "execution_count": 6,
      "outputs": []
    },
    {
      "cell_type": "code",
      "source": [],
      "metadata": {
        "id": "zcffixo_qtS8"
      },
      "id": "zcffixo_qtS8",
      "execution_count": null,
      "outputs": []
    }
  ],
  "metadata": {
    "kernelspec": {
      "display_name": "Python 3",
      "language": "python",
      "name": "python3"
    },
    "language_info": {
      "codemirror_mode": {
        "name": "ipython",
        "version": 3
      },
      "file_extension": ".py",
      "mimetype": "text/x-python",
      "name": "python",
      "nbconvert_exporter": "python",
      "pygments_lexer": "ipython3",
      "version": "3.10.10"
    },
    "colab": {
      "provenance": [],
      "name": "phj (2025. 7. 18. 오후 12:34:36)"
    }
  },
  "nbformat": 4,
  "nbformat_minor": 5
}